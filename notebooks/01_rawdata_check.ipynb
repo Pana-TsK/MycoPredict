{
 "cells": [
  {
   "cell_type": "code",
   "execution_count": 11,
   "metadata": {},
   "outputs": [
    {
     "data": {
      "text/plain": [
       "ACTIVITY_TYPE\n",
       "AC50          4296\n",
       "IC50          2629\n",
       "EC50          2168\n",
       "INH           1870\n",
       "Ki             918\n",
       "AC50_uM        667\n",
       "Activity       408\n",
       "Kd             296\n",
       "Inhibition     253\n",
       "Ki(app)        169\n",
       "MIC            126\n",
       "% Control      108\n",
       "IC90            76\n",
       "deltaTm         49\n",
       "Kcat/Km         46\n",
       "Ki app          41\n",
       "Km              29\n",
       "pIC50           29\n",
       "GI              24\n",
       "MIC99           21\n",
       "FC              20\n",
       "IZ              19\n",
       "Stability       17\n",
       "Ratio           17\n",
       "TDI             16\n",
       "Tm              16\n",
       "Kii             15\n",
       "Kb              14\n",
       "Vm              12\n",
       "Ratio IC50      11\n",
       "Kcat            11\n",
       "Time            11\n",
       "Kcat(app)       11\n",
       "pKi(app)        11\n",
       "logIC50         10\n",
       "Kis              9\n",
       "pKd              8\n",
       "Kd(app)          8\n",
       "deltaG           6\n",
       "Ka               5\n",
       "Vmax             5\n",
       "deltaS           5\n",
       "deltaH           5\n",
       "Imax             2\n",
       "Kic              2\n",
       "Kiuc             2\n",
       "ID50             1\n",
       "Ratio Ki         1\n",
       "Km(app)          1\n",
       "pKi              1\n",
       "K                1\n",
       "Name: count, dtype: int64"
      ]
     },
     "execution_count": 11,
     "metadata": {},
     "output_type": "execute_result"
    }
   ],
   "source": [
    "# finding out all the different types of assays mentioned in curated SMILES list\n",
    "# These points here were obtained with a confidence score of 7\n",
    "\n",
    "import pandas as pd\n",
    "import numpy as np\n",
    "\n",
    "# read the raw datafile\n",
    "df = pd.read_excel('C:/Users/panag/OneDrive/Documents/coding/Projects/AIbiotics/mycobacteria_ml_project/data_raw/curated_assays_MTb.xlsx')\n",
    "\n",
    "# get the unique values of the 'assay' column\n",
    "df['ACTIVITY_TYPE'].value_counts()\n"
   ]
  },
  {
   "cell_type": "code",
   "execution_count": 18,
   "metadata": {},
   "outputs": [
    {
     "data": {
      "text/plain": [
       "canonical_smiles\n",
       "Oc1cc(Cl)ccc1Oc1ccc(Cl)cc1Cl                                                                 7\n",
       "O=C(O)C(=O)Nc1ccc(C#Cc2ccc(C(F)(F)F)cc2Cl)cc1                                                7\n",
       "O=C(Cc1cc(O)n[nH]1)N/N=C/C(Cl)=C/c1ccccc1                                                    6\n",
       "CCCCCCCCCCOC(=O)Cn1c(COc2ccc(OC)cc2)[n+](C)c2ccccc21.[Cl-]                                   6\n",
       "O=C(Cc1cc(O)n[nH]1)N/N=C/c1cccc(Cl)c1Cl                                                      6\n",
       "                                                                                            ..\n",
       "CCOC(=O)c1ccc2nc(C)cc(Nc3ccc(CC)cc3)c2c1                                                     1\n",
       "CC(C)OC(=O)[C@H](C)NP(=O)(COc1ccccc1Sc1c[nH]c2c(=O)[nH]cnc12)N[C@@H](C)C(=O)OC(C)C           1\n",
       "O=c1[nH]cnc2c(Sc3ccccc3)c[nH]c12                                                             1\n",
       "O=c1[nH]cnc2c(Sc3ccccc3CP(=O)([O-])[O-])c[nH]c12.[Na+].[Na+]                                 1\n",
       "O=c1[nH]cnc2c(Sc3cccc(OCc4c(F)c(F)c(F)c(F)c4F)c3/C=C/P(=O)([O-])[O-])c[nH]c12.[Na+].[Na+]    1\n",
       "Name: count, Length: 4301, dtype: int64"
      ]
     },
     "execution_count": 18,
     "metadata": {},
     "output_type": "execute_result"
    }
   ],
   "source": [
    "# At this point, the data has been reduced to the AC50, EC50, IC50, activity_types.\n",
    "# The next step is to find how many duplicated are in the data, and to consider removing them\n",
    "\n",
    "# read in the new csv file\n",
    "df = pd.read_csv('C:/Users/panag/OneDrive/Documents/coding/Projects/AIbiotics/mycobacteria_ml_project/data_clean/AC50_IC50_EC50.csv')\n",
    "\n",
    "# check for duplicates\n",
    "df['canonical_smiles'].value_counts()"
   ]
  },
  {
   "cell_type": "code",
   "execution_count": 6,
   "metadata": {},
   "outputs": [
    {
     "data": {
      "text/plain": [
       "ACTIVITY_TYPE\n",
       "AC50          4296\n",
       "IC50          2635\n",
       "EC50          2168\n",
       "INH           1872\n",
       "Ki             918\n",
       "AC50_uM        667\n",
       "Activity       408\n",
       "Kd             296\n",
       "Inhibition     253\n",
       "Ki(app)        169\n",
       "MIC            126\n",
       "% Control      108\n",
       "IC90            76\n",
       "deltaTm         49\n",
       "Kcat/Km         46\n",
       "Ki app          41\n",
       "Km              29\n",
       "pIC50           29\n",
       "GI              24\n",
       "MIC99           21\n",
       "FC              20\n",
       "IZ              19\n",
       "Stability       17\n",
       "Ratio           17\n",
       "TDI             16\n",
       "Tm              16\n",
       "Kii             15\n",
       "Kb              14\n",
       "Vm              12\n",
       "Ratio IC50      11\n",
       "Kcat            11\n",
       "Time            11\n",
       "Kcat(app)       11\n",
       "pKi(app)        11\n",
       "logIC50         10\n",
       "Kis              9\n",
       "pKd              8\n",
       "Kd(app)          8\n",
       "deltaG           6\n",
       "Ka               5\n",
       "Vmax             5\n",
       "deltaS           5\n",
       "deltaH           5\n",
       "Imax             2\n",
       "Kic              2\n",
       "Kiuc             2\n",
       "ID50             1\n",
       "Ratio Ki         1\n",
       "Km(app)          1\n",
       "pKi              1\n",
       "K                1\n",
       "Name: count, dtype: int64"
      ]
     },
     "execution_count": 6,
     "metadata": {},
     "output_type": "execute_result"
    }
   ],
   "source": [
    "# chembl is queried again with a confidence score of 6\n",
    "# finding out all the different types of assays mentioned in curated SMILES list\n",
    "\n",
    "import pandas as pd\n",
    "import numpy as np\n",
    "\n",
    "# read the raw datafile\n",
    "df = pd.read_csv('C:/Users/panag/OneDrive/Documents/coding/Projects/AIbiotics/mycobacteria_ml_project/data_raw/curated_assays_MTb.csv')\n",
    "\n",
    "# get the unique values of the 'assay' column\n",
    "df['ACTIVITY_TYPE'].value_counts()"
   ]
  },
  {
   "cell_type": "code",
   "execution_count": 9,
   "metadata": {},
   "outputs": [
    {
     "data": {
      "text/plain": [
       "canonical_smiles\n",
       "Oc1cc(Cl)ccc1Oc1ccc(Cl)cc1Cl                                                                7\n",
       "O=C(O)C(=O)Nc1ccc(C#Cc2ccc(C(F)(F)F)cc2Cl)cc1                                               7\n",
       "O=C(Cc1cc(O)n[nH]1)N/N=C/c1cccc(Cl)c1Cl                                                     6\n",
       "CCn1nc(/C=C/c2ccccc2)nc2c(=O)n(C)c(=O)nc1-2                                                 6\n",
       "CCCCCCCCCCOC(=O)Cn1c(COc2ccc(OC)cc2)[n+](C)c2ccccc21.[Cl-]                                  6\n",
       "                                                                                           ..\n",
       "O=c1[nH]cnc2c(Sc3cccc(Oc4c(F)c(F)c(F)c(F)c4F)c3/C=C/P(=O)([O-])[O-])c[nH]c12.[Na+].[Na+]    1\n",
       "CC(C)Oc1cccc(Sc2c[nH]c3c(=O)[nH]cnc23)c1/C=C/P(=O)([O-])[O-].[Na+].[Na+]                    1\n",
       "CCOC(=O)c1ccc2nc(C)cc(Nc3ccc(N4CCOCC4)cc3)c2c1                                              1\n",
       "CCCN(C)c1ccc(CN2CCC(COc3cccc(Br)c3)CC2)cc1                                                  1\n",
       "Cc1cc2nc3ccc(N(C)C)cc3nc2cc1N                                                               1\n",
       "Name: count, Length: 4956, dtype: int64"
      ]
     },
     "execution_count": 9,
     "metadata": {},
     "output_type": "execute_result"
    }
   ],
   "source": [
    "# At this point, the data has been reduced to the AC50, EC50, IC50, activity_types.\n",
    "# The next step is to find how many duplicated are in the data, and to consider removing them\n",
    "\n",
    "# read in the new csv file\n",
    "df = pd.read_csv(r'C:\\Users\\panag\\OneDrive\\Documents\\coding\\Projects\\AIbiotics\\mycobacteria_ml_project\\data_clean\\02_AC50_IC50_EC50.csv')\n",
    "\n",
    "# check for duplicates\n",
    "df['canonical_smiles'].value_counts()"
   ]
  }
 ],
 "metadata": {
  "kernelspec": {
   "display_name": "chemprop",
   "language": "python",
   "name": "python3"
  },
  "language_info": {
   "codemirror_mode": {
    "name": "ipython",
    "version": 3
   },
   "file_extension": ".py",
   "mimetype": "text/x-python",
   "name": "python",
   "nbconvert_exporter": "python",
   "pygments_lexer": "ipython3",
   "version": "3.11.11"
  }
 },
 "nbformat": 4,
 "nbformat_minor": 2
}
